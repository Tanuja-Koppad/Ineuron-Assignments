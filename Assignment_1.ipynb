{
  "nbformat": 4,
  "nbformat_minor": 0,
  "metadata": {
    "colab": {
      "provenance": []
    },
    "kernelspec": {
      "name": "python3",
      "display_name": "Python 3"
    },
    "language_info": {
      "name": "python"
    }
  },
  "cells": [
    {
      "cell_type": "code",
      "execution_count": null,
      "metadata": {
        "id": "l0wQi7b_uuFh"
      },
      "outputs": [],
      "source": [
        "1. In the below elements which of them are values or an expression? \n",
        "eg:- values can be integer or string and expressions will be mathematical operators."
      ]
    },
    {
      "cell_type": "code",
      "source": [
        "Ans :- 1) * = operator\n",
        "2) 'hello'= value\n",
        "3) -87.8 = value\n",
        "4) - = operator\n",
        "5) / = operator\n",
        "6) + = operator\n",
        "7) 6 = value"
      ],
      "metadata": {
        "id": "tdfarL2hu4xY"
      },
      "execution_count": null,
      "outputs": []
    },
    {
      "cell_type": "code",
      "source": [
        "2. What is the difference between string and variable?"
      ],
      "metadata": {
        "id": "TVNcx3CVu5jb"
      },
      "execution_count": null,
      "outputs": []
    },
    {
      "cell_type": "code",
      "source": [
        "Ans - String :- String is a datatype .\n",
        "Variable :- Variables are containers for storing data values. For example x= \"Tanu\" , Here x is a variable and \"Tanu\" is a string"
      ],
      "metadata": {
        "id": "ZpYKZ-E7u8yc"
      },
      "execution_count": null,
      "outputs": []
    },
    {
      "cell_type": "code",
      "source": [
        "3. Describe three different data types."
      ],
      "metadata": {
        "id": "aHthDK7AvH8U"
      },
      "execution_count": null,
      "outputs": []
    },
    {
      "cell_type": "code",
      "source": [
        "Ans :- Text Type = str\n",
        "Numeric Types = int, float, complex\n",
        "Boolean Type = bool"
      ],
      "metadata": {
        "id": "_rCd4QQhvKhr"
      },
      "execution_count": null,
      "outputs": []
    },
    {
      "cell_type": "code",
      "source": [
        "4. What is an expression made up of? What do all expressions do?"
      ],
      "metadata": {
        "id": "sH4Rvs8gvOjT"
      },
      "execution_count": null,
      "outputs": []
    },
    {
      "cell_type": "code",
      "source": [
        "Ans. An expression is a combination of operators, variables, values. Expressions need to be evaluated .\n",
        "All expressions evaluate to a single value."
      ],
      "metadata": {
        "id": "dL5Jz3zmvQ6c"
      },
      "execution_count": null,
      "outputs": []
    },
    {
      "cell_type": "code",
      "source": [
        "5. This assignment statements, like spam = 10. \n",
        "What is the difference between an expression and a statement?"
      ],
      "metadata": {
        "id": "_DGLaJkYvVQf"
      },
      "execution_count": null,
      "outputs": []
    },
    {
      "cell_type": "code",
      "source": [
        "Ans. A statement does something. Statements represent an action or command e.g print statements, \n",
        "assignment statements. An expression is a combination of operators, variables, values. \n",
        "Expressions need to be evaluated.An expression is something that can be reduced to a value"
      ],
      "metadata": {
        "id": "UXOIb86dvhV9"
      },
      "execution_count": null,
      "outputs": []
    },
    {
      "cell_type": "code",
      "source": [
        "6. After running the following code, what does the variable bacon contain?\n",
        "bacon = 22\n",
        "bacon + 1"
      ],
      "metadata": {
        "id": "J6BkGdctvrK7"
      },
      "execution_count": null,
      "outputs": []
    },
    {
      "cell_type": "code",
      "source": [
        "bacon = 22\n",
        "bacon + 1\n",
        "print(bacon)"
      ],
      "metadata": {
        "colab": {
          "base_uri": "https://localhost:8080/"
        },
        "id": "nYveGOmZv0G9",
        "outputId": "d6e6646d-0f3d-4a74-dddc-774fa9356c56"
      },
      "execution_count": 1,
      "outputs": [
        {
          "output_type": "stream",
          "name": "stdout",
          "text": [
            "22\n"
          ]
        }
      ]
    },
    {
      "cell_type": "code",
      "source": [
        "7. What should the values of the following two terms be?\n",
        "'spam' + 'spamspam'\n",
        "'spam' * 3"
      ],
      "metadata": {
        "id": "Fk35f_aov0th"
      },
      "execution_count": null,
      "outputs": []
    },
    {
      "cell_type": "code",
      "source": [
        "print('spam'+'spamspam')\n",
        "print('spam'*3)"
      ],
      "metadata": {
        "colab": {
          "base_uri": "https://localhost:8080/"
        },
        "id": "YPLd0ZEEwGK3",
        "outputId": "bb836645-f826-47e6-9d3f-035baabf8504"
      },
      "execution_count": 2,
      "outputs": [
        {
          "output_type": "stream",
          "name": "stdout",
          "text": [
            "spamspamspam\n",
            "spamspamspam\n"
          ]
        }
      ]
    },
    {
      "cell_type": "code",
      "source": [
        "8. Why is eggs a valid variable name while 100 is invalid?"
      ],
      "metadata": {
        "id": "IKoUXLjEwGwv"
      },
      "execution_count": null,
      "outputs": []
    },
    {
      "cell_type": "code",
      "source": [
        "Ans. According to rules in python: A variable name cannot start with a number, therefore 100 cannot be the variable name "
      ],
      "metadata": {
        "id": "8jMOqAbnwLwl"
      },
      "execution_count": null,
      "outputs": []
    },
    {
      "cell_type": "code",
      "source": [
        "9. What three functions can be used to get the integer, floating-point number, or string version of a value?"
      ],
      "metadata": {
        "id": "xsqOSfZqwQqV"
      },
      "execution_count": null,
      "outputs": []
    },
    {
      "cell_type": "code",
      "source": [
        "Ans :- The int(), float(), and str() functions will evaluate to the integer, floating-point number, and string versions of the value passed to them.\n",
        "\n",
        "I can explain this by using a code"
      ],
      "metadata": {
        "id": "4BEak4N3wU9Q"
      },
      "execution_count": null,
      "outputs": []
    },
    {
      "cell_type": "code",
      "source": [
        "int_value = int(10)\n",
        "print(type(int_value))\n",
        "#Converting to float\n",
        "float_value = float(10)\n",
        "print(type(float_value ))\n",
        "#Converting to String\n",
        "string_value = str(10)\n",
        "print(type(string_value))"
      ],
      "metadata": {
        "colab": {
          "base_uri": "https://localhost:8080/"
        },
        "id": "T4ieI9l0wbt2",
        "outputId": "9e008439-9b1f-4c61-940a-9d5896b37983"
      },
      "execution_count": 3,
      "outputs": [
        {
          "output_type": "stream",
          "name": "stdout",
          "text": [
            "<class 'int'>\n",
            "<class 'float'>\n",
            "<class 'str'>\n"
          ]
        }
      ]
    },
    {
      "cell_type": "code",
      "source": [
        "10. Why does this expression cause an error? How can you fix it?\n",
        "'I have eaten ' + 99 + ' burritos.'"
      ],
      "metadata": {
        "id": "SsU9Tqtuwlx8"
      },
      "execution_count": null,
      "outputs": []
    },
    {
      "cell_type": "code",
      "source": [
        "Ans :- The expression causes an error because 99 is an integer, and only strings can be concatenated to other strings with the + operator. \n",
        "The correct way is 'I have eaten ' + str(99) + ' burritos.'"
      ],
      "metadata": {
        "id": "FQ5VrlgLwrot"
      },
      "execution_count": null,
      "outputs": []
    },
    {
      "cell_type": "code",
      "source": [],
      "metadata": {
        "id": "lTdLaJXkw3Od"
      },
      "execution_count": null,
      "outputs": []
    }
  ]
}