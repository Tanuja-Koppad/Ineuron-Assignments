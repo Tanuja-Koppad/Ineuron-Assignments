{
  "nbformat": 4,
  "nbformat_minor": 0,
  "metadata": {
    "colab": {
      "provenance": []
    },
    "kernelspec": {
      "name": "python3",
      "display_name": "Python 3"
    },
    "language_info": {
      "name": "python"
    }
  },
  "cells": [
    {
      "cell_type": "code",
      "execution_count": null,
      "metadata": {
        "id": "fdpcdkfiTk-G"
      },
      "outputs": [],
      "source": [
        "1. How do you distinguish between shutil.copy() and shutil.copytree()?"
      ]
    },
    {
      "cell_type": "code",
      "source": [
        "Ans: The shutil.copy() function will copy a single file, while shutil.copytree() will copy an entire folder, along with all its contents."
      ],
      "metadata": {
        "id": "gznBjrxUU7Le"
      },
      "execution_count": null,
      "outputs": []
    },
    {
      "cell_type": "code",
      "source": [
        "2. What function is used to rename files??"
      ],
      "metadata": {
        "id": "LMNeG9IjVDK0"
      },
      "execution_count": null,
      "outputs": []
    },
    {
      "cell_type": "code",
      "source": [
        "Ans: The shutil.move() function is used for renaming files, as well as moving them"
      ],
      "metadata": {
        "id": "35P1t2PgVGLL"
      },
      "execution_count": null,
      "outputs": []
    },
    {
      "cell_type": "code",
      "source": [
        "3. What is the difference between the delete functions in the send2trash and shutil modules?"
      ],
      "metadata": {
        "id": "NeC52FyiVLVL"
      },
      "execution_count": null,
      "outputs": []
    },
    {
      "cell_type": "code",
      "source": [
        "Ans. import shutil\n",
        "shutil.retree(): The shutil module’s rmtree() function can be used to delete files or folders. \n",
        "But, this function delete the files permanently. The operations cannot be undone if there were any accidental deletions performed"
      ],
      "metadata": {
        "id": "9fx50YJ2VSMi"
      },
      "execution_count": null,
      "outputs": []
    },
    {
      "cell_type": "code",
      "source": [
        "import send2trash\n",
        "\n",
        "send2trash.send2trash() : Using send2trash, we can send files to the Trash or Recycle Bin instead of permanently\n",
        "\n",
        "deleting them. If the directory contains files or other folders, those are also deleted. \n",
        "A TrashPermissionError exception is raised, in case a file could not be deleted due to permission error or any other unexpected reason."
      ],
      "metadata": {
        "id": "NTuKKaEUHTde"
      },
      "execution_count": null,
      "outputs": []
    },
    {
      "cell_type": "code",
      "source": [
        "import shutil\n",
        "import send2trash\n",
        "shutil.rmtree(\"path\")\n",
        "send2trash.send2trash(\"path\")"
      ],
      "metadata": {
        "id": "4W48tyjaHdtN"
      },
      "execution_count": null,
      "outputs": []
    },
    {
      "cell_type": "code",
      "source": [
        "4.ZipFile objects have a close() method just like File objects’ close() method. What ZipFile method is equivalent to File objects’ open() method?"
      ],
      "metadata": {
        "id": "wA-MGkbHVW8P"
      },
      "execution_count": null,
      "outputs": []
    },
    {
      "cell_type": "code",
      "source": [
        "Ans. from zipfile import Zipfile\n",
        "with ZipFile(file_name, 'r') as zip: -> this code will open specified zipfile for us. we can use zip object to preform other operation the ziplife. like zip.read()"
      ],
      "metadata": {
        "id": "rj0ujXnvVaSC"
      },
      "execution_count": null,
      "outputs": []
    },
    {
      "cell_type": "code",
      "source": [
        "from zipfile import Zipfile\n",
        "with ZipFile(file_name, 'r') as zip"
      ],
      "metadata": {
        "id": "YiizIk4WHpEH"
      },
      "execution_count": null,
      "outputs": []
    },
    {
      "cell_type": "code",
      "source": [
        "5. Create a programme that searches a folder tree for files with a certain file extension (such as .pdf or .jpg). Copy these files from whatever location they are in to a new folder."
      ],
      "metadata": {
        "id": "9x5KxIfYVyqf"
      },
      "execution_count": null,
      "outputs": []
    },
    {
      "cell_type": "code",
      "source": [
        "Ans: import os, shutil\n",
        "\n",
        "sourcePath = input(‘Enter the absolute path of the source folder: ‘)\n",
        " fileExtType = input(‘Enter the type of file to copy (such as .pdf or .jpg): ‘).lower()\n",
        " destPath = input(‘Enter the absolute path of the destination folder: ‘)\n",
        "\n",
        "for foldername, subfolders, filenames in os.walk(sourcePath):\n",
        " for filename in filenames:\n",
        " if filename.lower().endswith(fileExtType):\n",
        " #print(foldername + ‘\\\\’ + filename)\n",
        " copySourcePath = os.path.join(foldername, filename)\n",
        " #print(copySourcePath)\n",
        "shutil.copy(copySourcePath, destPath)\n",
        " else:\n",
        " continue"
      ],
      "metadata": {
        "id": "4UacXSHcWH9V"
      },
      "execution_count": null,
      "outputs": []
    },
    {
      "cell_type": "code",
      "source": [],
      "metadata": {
        "id": "JA__8EAEX3ll"
      },
      "execution_count": null,
      "outputs": []
    }
  ]
}