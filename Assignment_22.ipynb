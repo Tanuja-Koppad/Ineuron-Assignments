{
  "nbformat": 4,
  "nbformat_minor": 0,
  "metadata": {
    "colab": {
      "provenance": []
    },
    "kernelspec": {
      "name": "python3",
      "display_name": "Python 3"
    },
    "language_info": {
      "name": "python"
    }
  },
  "cells": [
    {
      "cell_type": "code",
      "execution_count": null,
      "metadata": {
        "id": "7pzZH6dKqeqt"
      },
      "outputs": [],
      "source": [
        "Q.1 What is the result of the code, and explain?\n",
        "\n",
        ">>> X = 'iNeuron'\n",
        ">>> def func(): print(X)\n",
        "\n",
        ">>> func("
      ]
    },
    {
      "cell_type": "code",
      "source": [
        "X = 'iNeuron'\n",
        "def func():\n",
        "    print(X)\n",
        "func()\n"
      ],
      "metadata": {
        "colab": {
          "base_uri": "https://localhost:8080/"
        },
        "id": "-9QhIcrgrExb",
        "outputId": "59600fdb-1820-402b-fda1-9c76789b8cec"
      },
      "execution_count": 2,
      "outputs": [
        {
          "output_type": "stream",
          "name": "stdout",
          "text": [
            "iNeuron\n"
          ]
        }
      ]
    },
    {
      "cell_type": "code",
      "source": [
        "Q.2 What is the result of the code, and explain?\n",
        "\n",
        ">>> X = 'iNeuron' >>> def func(): X = 'NI!'\n",
        "\n",
        ">>> func() >>> print(X)"
      ],
      "metadata": {
        "id": "IvbIctGPrFas"
      },
      "execution_count": null,
      "outputs": []
    },
    {
      "cell_type": "code",
      "source": [
        "X = 'iNeuron'\n",
        "def func():\n",
        "    X = 'NI!'\n",
        "\n",
        "func()\n",
        "print(X)"
      ],
      "metadata": {
        "colab": {
          "base_uri": "https://localhost:8080/"
        },
        "id": "GEHDwfXkrUby",
        "outputId": "b27d1d15-ed3b-4dc9-e99f-cc5f655f0870"
      },
      "execution_count": 3,
      "outputs": [
        {
          "output_type": "stream",
          "name": "stdout",
          "text": [
            "iNeuron\n"
          ]
        }
      ]
    },
    {
      "cell_type": "code",
      "source": [
        "Q.3 What does this code print, and why?\n",
        "\n",
        ">>> X = 'iNeuron' >>> def func(): X = 'NI' print(X)\n",
        "\n",
        ">>> func() >>> print(X)"
      ],
      "metadata": {
        "id": "kO3LeAw0rX-Z"
      },
      "execution_count": null,
      "outputs": []
    },
    {
      "cell_type": "code",
      "source": [
        "X = 'iNeuron'\n",
        "def func():\n",
        "    X = 'NI!'\n",
        "    print(X)\n",
        "\n",
        "func()\n",
        "print(X)"
      ],
      "metadata": {
        "colab": {
          "base_uri": "https://localhost:8080/"
        },
        "id": "wJAC1GtRrcmT",
        "outputId": "31f5ba55-e880-47c0-e1a3-dcd2840c6788"
      },
      "execution_count": 4,
      "outputs": [
        {
          "output_type": "stream",
          "name": "stdout",
          "text": [
            "NI!\n",
            "iNeuron\n"
          ]
        }
      ]
    },
    {
      "cell_type": "code",
      "source": [
        "Q.4 What output does this code produce? Why?\n",
        "\n",
        ">>> X = 'iNeuron' >>> def func(): global X X = 'NI'\n",
        "\n",
        ">>> func() >>> print(X)"
      ],
      "metadata": {
        "id": "_C1Onu1ergZQ"
      },
      "execution_count": null,
      "outputs": []
    },
    {
      "cell_type": "code",
      "source": [
        "X = 'iNeuron'\n",
        "def func():\n",
        "    global X\n",
        "    X = 'NI!'\n",
        "    print(X)\n",
        "\n",
        "func()\n",
        "print(X)"
      ],
      "metadata": {
        "colab": {
          "base_uri": "https://localhost:8080/"
        },
        "id": "oNP6cxSZrj3_",
        "outputId": "6cc6f5f0-cc70-4013-d75e-7b5533e3df82"
      },
      "execution_count": 5,
      "outputs": [
        {
          "output_type": "stream",
          "name": "stdout",
          "text": [
            "NI!\n",
            "NI!\n"
          ]
        }
      ]
    },
    {
      "cell_type": "code",
      "source": [
        "Q. What about this code—what’s the output, and why?\n",
        "\n",
        ">>> X = 'iNeuron' >>> def func(): X = 'NI' def nested(): print(X) nested()\n",
        "\n",
        ">>> func() >>> X"
      ],
      "metadata": {
        "id": "PpIMiNnHrpyZ"
      },
      "execution_count": null,
      "outputs": []
    },
    {
      "cell_type": "code",
      "source": [
        "X = 'iNeuron'\n",
        "def func():\n",
        "    X = 'NI'\n",
        "def nested():\n",
        "    print(X)\n",
        "    \n",
        "nested()\n",
        "func()\n",
        "X\n"
      ],
      "metadata": {
        "colab": {
          "base_uri": "https://localhost:8080/",
          "height": 53
        },
        "id": "5XwzzPy4r0IB",
        "outputId": "124b6fce-576f-4381-fbd5-8b73ddb61d9e"
      },
      "execution_count": 6,
      "outputs": [
        {
          "output_type": "stream",
          "name": "stdout",
          "text": [
            "iNeuron\n"
          ]
        },
        {
          "output_type": "execute_result",
          "data": {
            "text/plain": [
              "'iNeuron'"
            ],
            "application/vnd.google.colaboratory.intrinsic+json": {
              "type": "string"
            }
          },
          "metadata": {},
          "execution_count": 6
        }
      ]
    },
    {
      "cell_type": "code",
      "source": [
        "Q. How about this code: what is its output in Python 3, and explain?\n",
        "\n",
        ">>> def func(): X = 'NI' def nested(): nonlocal X X = 'Spam' nested() print(X)\n",
        "\n",
        ">>> func()"
      ],
      "metadata": {
        "id": "5f0-PRO8r3ld"
      },
      "execution_count": null,
      "outputs": []
    },
    {
      "cell_type": "code",
      "source": [
        "def func():\n",
        "    X = 'NI'\n",
        "    def nested():\n",
        "        nonlocal X\n",
        "        X = 'spam'\n",
        "    nested()\n",
        "    print(X)\n",
        "\n",
        "func()"
      ],
      "metadata": {
        "colab": {
          "base_uri": "https://localhost:8080/"
        },
        "id": "n9Ra4IZSsBeS",
        "outputId": "ec13f718-4b5e-473f-9886-5341c163eead"
      },
      "execution_count": 7,
      "outputs": [
        {
          "output_type": "stream",
          "name": "stdout",
          "text": [
            "spam\n"
          ]
        }
      ]
    },
    {
      "cell_type": "code",
      "source": [],
      "metadata": {
        "id": "-oaEP_A-sCAC"
      },
      "execution_count": null,
      "outputs": []
    }
  ]
}