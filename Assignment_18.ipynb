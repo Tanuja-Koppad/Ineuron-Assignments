{
  "nbformat": 4,
  "nbformat_minor": 0,
  "metadata": {
    "colab": {
      "provenance": []
    },
    "kernelspec": {
      "name": "python3",
      "display_name": "Python 3"
    },
    "language_info": {
      "name": "python"
    }
  },
  "cells": [
    {
      "cell_type": "code",
      "execution_count": null,
      "metadata": {
        "id": "v75pj7xyXVyk"
      },
      "outputs": [],
      "source": [
        "1. Create a zoo.py file first. Define the hours() function, which prints the string 'Open 9-5 daily'. \n",
        "Then, use the interactive interpreter to import the zoo module and call its hours() function"
      ]
    },
    {
      "cell_type": "code",
      "source": [
        "Upload widget is only available when the cell has been executed in the current browser session. Please rerun this cell to enable.\n",
        "Saving zoo.py to zoo.py"
      ],
      "metadata": {
        "id": "r-fB61qqeiCZ"
      },
      "execution_count": null,
      "outputs": []
    },
    {
      "cell_type": "code",
      "source": [
        "import zoo\n",
        "from importlib import reload\n",
        "reload(zoo)\n",
        "\n",
        "zoo.hours()"
      ],
      "metadata": {
        "id": "DPHQnAuxe3eH"
      },
      "execution_count": null,
      "outputs": []
    },
    {
      "cell_type": "code",
      "source": [
        "Open 9-5 daily"
      ],
      "metadata": {
        "id": "JZWgajTifKEU"
      },
      "execution_count": null,
      "outputs": []
    },
    {
      "cell_type": "code",
      "source": [
        "2. In the interactive interpreter, import the zoo module as menagerie and call its hours() function"
      ],
      "metadata": {
        "id": "WMf7nuLbfMoA"
      },
      "execution_count": null,
      "outputs": []
    },
    {
      "cell_type": "code",
      "source": [
        "import zoo as menagerie\n",
        "menagerie.hours()"
      ],
      "metadata": {
        "id": "HRylj9HJfbra"
      },
      "execution_count": null,
      "outputs": []
    },
    {
      "cell_type": "code",
      "source": [
        "Open 9-5 daily"
      ],
      "metadata": {
        "id": "ELR_YwBQfvR7"
      },
      "execution_count": null,
      "outputs": []
    },
    {
      "cell_type": "code",
      "source": [
        "3. Using the interpreter, explicitly import and call the hours() function from zoo."
      ],
      "metadata": {
        "id": "N4DXUc-KfwDq"
      },
      "execution_count": null,
      "outputs": []
    },
    {
      "cell_type": "code",
      "source": [
        "from zoo import hours\n",
        "hours()"
      ],
      "metadata": {
        "id": "MSyLOMNNf7vl"
      },
      "execution_count": null,
      "outputs": []
    },
    {
      "cell_type": "code",
      "source": [
        "Open 9-5 daily"
      ],
      "metadata": {
        "id": "Tr4bnihDf8ed"
      },
      "execution_count": null,
      "outputs": []
    },
    {
      "cell_type": "code",
      "source": [
        "4. Import the hours() function as info and call it."
      ],
      "metadata": {
        "id": "tFAl1Ia5f_EF"
      },
      "execution_count": null,
      "outputs": []
    },
    {
      "cell_type": "code",
      "source": [
        "from zoo import hours as info\n",
        "info()"
      ],
      "metadata": {
        "id": "CMub8NbayewI"
      },
      "execution_count": null,
      "outputs": []
    },
    {
      "cell_type": "code",
      "source": [
        "Open 9-5 daily"
      ],
      "metadata": {
        "id": "jMAy3pqryhsC"
      },
      "execution_count": null,
      "outputs": []
    },
    {
      "cell_type": "code",
      "source": [
        "5. Create a plain dictionary with the key-value pairs 'a': 1, 'b': 2, and 'c': 3, and print it out."
      ],
      "metadata": {
        "id": "iTZUw9YtykfJ"
      },
      "execution_count": null,
      "outputs": []
    },
    {
      "cell_type": "code",
      "source": [
        "plain = {'a': 1, 'b': 2, 'c': 3}\n",
        "plain"
      ],
      "metadata": {
        "colab": {
          "base_uri": "https://localhost:8080/"
        },
        "id": "q_mAfH9_yoMg",
        "outputId": "9af85cb3-76c1-4f88-d76a-2bfd7d3cca86"
      },
      "execution_count": 9,
      "outputs": [
        {
          "output_type": "execute_result",
          "data": {
            "text/plain": [
              "{'a': 1, 'b': 2, 'c': 3}"
            ]
          },
          "metadata": {},
          "execution_count": 9
        }
      ]
    },
    {
      "cell_type": "code",
      "source": [
        "6.Make an OrderedDict called fancy from the same pairs listed in 5 and print it. Did it print in the same order as plain?"
      ],
      "metadata": {
        "id": "Q3f0jagByuzb"
      },
      "execution_count": null,
      "outputs": []
    },
    {
      "cell_type": "code",
      "source": [
        "from collections import OrderedDict\n",
        "fancy = OrderedDict([('a', 1), ('b', 2), ('c', 3)])\n",
        "fancy"
      ],
      "metadata": {
        "colab": {
          "base_uri": "https://localhost:8080/"
        },
        "id": "EKSwoDtDyvpM",
        "outputId": "3f8708cb-cbb7-4a90-cbb2-f46571c34e4e"
      },
      "execution_count": 10,
      "outputs": [
        {
          "output_type": "execute_result",
          "data": {
            "text/plain": [
              "OrderedDict([('a', 1), ('b', 2), ('c', 3)])"
            ]
          },
          "metadata": {},
          "execution_count": 10
        }
      ]
    },
    {
      "cell_type": "code",
      "source": [
        "7. Make a default dictionary called dict_of_lists and pass it the argument list.\n",
        " Make the list dict_of_lists['a'] and append the value 'something for a' to it in one assignment. Print dict_of_lists['a']."
      ],
      "metadata": {
        "id": "NS-kcHI-y8NJ"
      },
      "execution_count": null,
      "outputs": []
    },
    {
      "cell_type": "code",
      "source": [
        "from collections import defaultdict\n",
        "dict_of_lists = defaultdict(list)\n",
        "dict_of_lists['a'].append('something for a')\n",
        "dict_of_lists['a']"
      ],
      "metadata": {
        "colab": {
          "base_uri": "https://localhost:8080/"
        },
        "id": "D5Gh2YDszDzK",
        "outputId": "00dec80a-78b2-4256-893e-0d7839ac452b"
      },
      "execution_count": 11,
      "outputs": [
        {
          "output_type": "execute_result",
          "data": {
            "text/plain": [
              "['something for a']"
            ]
          },
          "metadata": {},
          "execution_count": 11
        }
      ]
    },
    {
      "cell_type": "code",
      "source": [],
      "metadata": {
        "id": "_M9zqmpEzIF6"
      },
      "execution_count": null,
      "outputs": []
    }
  ]
}