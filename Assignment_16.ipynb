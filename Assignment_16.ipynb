{
  "nbformat": 4,
  "nbformat_minor": 0,
  "metadata": {
    "colab": {
      "provenance": []
    },
    "kernelspec": {
      "name": "python3",
      "display_name": "Python 3"
    },
    "language_info": {
      "name": "python"
    }
  },
  "cells": [
    {
      "cell_type": "code",
      "execution_count": null,
      "metadata": {
        "id": "PvTAbUTbFQr9"
      },
      "outputs": [],
      "source": [
        "1. Create a list called years_list, starting with the year of your birth, and each year thereafter until the year of your fifth birthday. \n",
        "For example, if you were born in 1980. the list would be years_list = [1980, 1981, 1982, 1983, 1984, 1985]."
      ]
    },
    {
      "cell_type": "code",
      "source": [
        "years_list = [i for i in range(1997,1997+6)]\n",
        "years_list"
      ],
      "metadata": {
        "colab": {
          "base_uri": "https://localhost:8080/"
        },
        "id": "WPVacmeLam0s",
        "outputId": "eb421cdd-4372-42fb-f0b1-f529c58a50e0"
      },
      "execution_count": 10,
      "outputs": [
        {
          "output_type": "execute_result",
          "data": {
            "text/plain": [
              "[1997, 1998, 1999, 2000, 2001, 2002]"
            ]
          },
          "metadata": {},
          "execution_count": 10
        }
      ]
    },
    {
      "cell_type": "code",
      "source": [
        "2. In which year in years_list was your third birthday? Remember, you were 0 years of age for your first year."
      ],
      "metadata": {
        "id": "LGkHLhxParcq"
      },
      "execution_count": null,
      "outputs": []
    },
    {
      "cell_type": "code",
      "source": [
        "years_list[3]"
      ],
      "metadata": {
        "colab": {
          "base_uri": "https://localhost:8080/"
        },
        "id": "ZSSoIOKiay04",
        "outputId": "392de0be-2b3a-45f4-b3c5-00a1763219fe"
      },
      "execution_count": 11,
      "outputs": [
        {
          "output_type": "execute_result",
          "data": {
            "text/plain": [
              "2000"
            ]
          },
          "metadata": {},
          "execution_count": 11
        }
      ]
    },
    {
      "cell_type": "code",
      "source": [
        "3.In the years list, which year were you the oldest?"
      ],
      "metadata": {
        "id": "OBOfeF4IPedi"
      },
      "execution_count": null,
      "outputs": []
    },
    {
      "cell_type": "code",
      "source": [
        "max(years_list)"
      ],
      "metadata": {
        "colab": {
          "base_uri": "https://localhost:8080/"
        },
        "id": "_advw_57Pi7s",
        "outputId": "1401306a-a4fd-4b55-93cf-51cbb0c5a085"
      },
      "execution_count": 12,
      "outputs": [
        {
          "output_type": "execute_result",
          "data": {
            "text/plain": [
              "2002"
            ]
          },
          "metadata": {},
          "execution_count": 12
        }
      ]
    },
    {
      "cell_type": "code",
      "source": [
        "years_list[-1]"
      ],
      "metadata": {
        "colab": {
          "base_uri": "https://localhost:8080/"
        },
        "id": "5DsXMD4saHll",
        "outputId": "65858544-2baa-4582-ba71-fcfffddfd0db"
      },
      "execution_count": 13,
      "outputs": [
        {
          "output_type": "execute_result",
          "data": {
            "text/plain": [
              "2002"
            ]
          },
          "metadata": {},
          "execution_count": 13
        }
      ]
    },
    {
      "cell_type": "code",
      "source": [
        "4. Make a list called things with these three strings as elements: \"mozzarella\", \"cinderella\", \"salmonella\"."
      ],
      "metadata": {
        "id": "Q_gUF4Ktbjwq"
      },
      "execution_count": null,
      "outputs": []
    },
    {
      "cell_type": "code",
      "source": [
        "things = list(['mozzarella', 'cinderella','salmonella'])\n",
        "things"
      ],
      "metadata": {
        "colab": {
          "base_uri": "https://localhost:8080/"
        },
        "id": "op-WH2j7bnZQ",
        "outputId": "75b875fe-59bb-4a1a-9b94-3525496ffab6"
      },
      "execution_count": 14,
      "outputs": [
        {
          "output_type": "execute_result",
          "data": {
            "text/plain": [
              "['mozzarella', 'cinderella', 'salmonella']"
            ]
          },
          "metadata": {},
          "execution_count": 14
        }
      ]
    },
    {
      "cell_type": "code",
      "source": [
        "5. Capitalize the element in things that refers to a person and then print the list. Did it change the element in the list?"
      ],
      "metadata": {
        "id": "9hOv2MC_bxcy"
      },
      "execution_count": null,
      "outputs": []
    },
    {
      "cell_type": "code",
      "source": [
        "for i in things:\n",
        "    print(i)\n",
        "things"
      ],
      "metadata": {
        "colab": {
          "base_uri": "https://localhost:8080/"
        },
        "id": "Nc4kPgYrb125",
        "outputId": "02af1f30-b8d0-4e0c-972e-10a6337767a1"
      },
      "execution_count": 15,
      "outputs": [
        {
          "output_type": "stream",
          "name": "stdout",
          "text": [
            "mozzarella\n",
            "cinderella\n",
            "salmonella\n"
          ]
        },
        {
          "output_type": "execute_result",
          "data": {
            "text/plain": [
              "['mozzarella', 'cinderella', 'salmonella']"
            ]
          },
          "metadata": {},
          "execution_count": 15
        }
      ]
    },
    {
      "cell_type": "code",
      "source": [
        "6. Make a surprise list with the elements \"Groucho,\" \"Chico,\" and \"Harpo.\""
      ],
      "metadata": {
        "id": "Ss2hy4NbcHmp"
      },
      "execution_count": null,
      "outputs": []
    },
    {
      "cell_type": "code",
      "source": [
        "surprise_list = [\"Groucho\", \"Chico\", \"Harpo\"]\n",
        "surprise_list"
      ],
      "metadata": {
        "colab": {
          "base_uri": "https://localhost:8080/"
        },
        "id": "3jO74oqkcWAk",
        "outputId": "a8efc25e-1f4d-4d18-cb55-a9e5c4c3105a"
      },
      "execution_count": 16,
      "outputs": [
        {
          "output_type": "execute_result",
          "data": {
            "text/plain": [
              "['Groucho', 'Chico', 'Harpo']"
            ]
          },
          "metadata": {},
          "execution_count": 16
        }
      ]
    },
    {
      "cell_type": "code",
      "source": [
        "7. Lowercase the last element of the surprise list, reverse it, and then capitalize it."
      ],
      "metadata": {
        "id": "jf1P8iq_cbT_"
      },
      "execution_count": null,
      "outputs": []
    },
    {
      "cell_type": "code",
      "source": [
        "surprise_list[-1].lower()"
      ],
      "metadata": {
        "colab": {
          "base_uri": "https://localhost:8080/",
          "height": 35
        },
        "id": "gEqQUuDbcelu",
        "outputId": "4c768a87-76de-47fd-f8f2-1956ffb69963"
      },
      "execution_count": 17,
      "outputs": [
        {
          "output_type": "execute_result",
          "data": {
            "text/plain": [
              "'harpo'"
            ],
            "application/vnd.google.colaboratory.intrinsic+json": {
              "type": "string"
            }
          },
          "metadata": {},
          "execution_count": 17
        }
      ]
    },
    {
      "cell_type": "code",
      "source": [
        "surprise_list[-1][::-1]"
      ],
      "metadata": {
        "colab": {
          "base_uri": "https://localhost:8080/",
          "height": 35
        },
        "id": "_YkVQYmUcrWo",
        "outputId": "5797ac6b-745f-4cf2-eae3-bb20e1e2cc74"
      },
      "execution_count": 18,
      "outputs": [
        {
          "output_type": "execute_result",
          "data": {
            "text/plain": [
              "'opraH'"
            ],
            "application/vnd.google.colaboratory.intrinsic+json": {
              "type": "string"
            }
          },
          "metadata": {},
          "execution_count": 18
        }
      ]
    },
    {
      "cell_type": "code",
      "source": [
        "surprise_list[-1][::-1].upper()"
      ],
      "metadata": {
        "colab": {
          "base_uri": "https://localhost:8080/",
          "height": 35
        },
        "id": "LigpKpH4cvpb",
        "outputId": "48d952ca-b1ef-45b8-a50a-2c4048c47c6c"
      },
      "execution_count": 19,
      "outputs": [
        {
          "output_type": "execute_result",
          "data": {
            "text/plain": [
              "'OPRAH'"
            ],
            "application/vnd.google.colaboratory.intrinsic+json": {
              "type": "string"
            }
          },
          "metadata": {},
          "execution_count": 19
        }
      ]
    },
    {
      "cell_type": "code",
      "source": [
        "8. Make an English-to-French dictionary called e2f and print it. Here are your starter words: dog is chien, cat is chat, and walrus is morse."
      ],
      "metadata": {
        "id": "MIHqziH_dAGq"
      },
      "execution_count": null,
      "outputs": []
    },
    {
      "cell_type": "code",
      "source": [
        "e2f = {'dog':'chien','cat':'chat','walrus':'morse'}"
      ],
      "metadata": {
        "id": "GZ0ulN4cdFNb"
      },
      "execution_count": 21,
      "outputs": []
    },
    {
      "cell_type": "code",
      "source": [
        "9. Write the French word for walrus in your three-word dictionary e2f."
      ],
      "metadata": {
        "id": "HiZYQkTKdVEd"
      },
      "execution_count": null,
      "outputs": []
    },
    {
      "cell_type": "code",
      "source": [
        "e2f['walrus']"
      ],
      "metadata": {
        "colab": {
          "base_uri": "https://localhost:8080/",
          "height": 35
        },
        "id": "-DAdxE0ydXpJ",
        "outputId": "c4c82950-beaf-4501-bbee-98ebf7fd123d"
      },
      "execution_count": 22,
      "outputs": [
        {
          "output_type": "execute_result",
          "data": {
            "text/plain": [
              "'morse'"
            ],
            "application/vnd.google.colaboratory.intrinsic+json": {
              "type": "string"
            }
          },
          "metadata": {},
          "execution_count": 22
        }
      ]
    },
    {
      "cell_type": "code",
      "source": [
        "10. Make a French-to-English dictionary called f2e from e2f. Use the items method."
      ],
      "metadata": {
        "id": "nbLM__b2de7C"
      },
      "execution_count": null,
      "outputs": []
    },
    {
      "cell_type": "code",
      "source": [
        "f2e = dict((key,value) for value,key in e2f.items())\n",
        "f2e"
      ],
      "metadata": {
        "colab": {
          "base_uri": "https://localhost:8080/"
        },
        "id": "hDASjpQIdrHM",
        "outputId": "a97db0bb-5971-47aa-fa36-9dc28638807e"
      },
      "execution_count": 23,
      "outputs": [
        {
          "output_type": "execute_result",
          "data": {
            "text/plain": [
              "{'chien': 'dog', 'chat': 'cat', 'morse': 'walrus'}"
            ]
          },
          "metadata": {},
          "execution_count": 23
        }
      ]
    },
    {
      "cell_type": "code",
      "source": [
        "11. Print the English version of the French word chien using f2e."
      ],
      "metadata": {
        "id": "LmeIIdF7dxhR"
      },
      "execution_count": null,
      "outputs": []
    },
    {
      "cell_type": "code",
      "source": [
        "f2e['chien']"
      ],
      "metadata": {
        "colab": {
          "base_uri": "https://localhost:8080/",
          "height": 35
        },
        "id": "ebTbMCjRd1Zb",
        "outputId": "7a2b0cc2-6582-45dc-d4b5-fccb37275a73"
      },
      "execution_count": 24,
      "outputs": [
        {
          "output_type": "execute_result",
          "data": {
            "text/plain": [
              "'dog'"
            ],
            "application/vnd.google.colaboratory.intrinsic+json": {
              "type": "string"
            }
          },
          "metadata": {},
          "execution_count": 24
        }
      ]
    },
    {
      "cell_type": "code",
      "source": [
        "12. Make and print a set of English words from the keys in e2f."
      ],
      "metadata": {
        "id": "TnMJcfz4d4oi"
      },
      "execution_count": null,
      "outputs": []
    },
    {
      "cell_type": "code",
      "source": [
        "e2f.keys()"
      ],
      "metadata": {
        "colab": {
          "base_uri": "https://localhost:8080/"
        },
        "id": "_2Q4JoFod-R0",
        "outputId": "0f2ab2e0-94c5-415e-ee2d-7998fa4ac7f9"
      },
      "execution_count": 25,
      "outputs": [
        {
          "output_type": "execute_result",
          "data": {
            "text/plain": [
              "dict_keys(['dog', 'cat', 'walrus'])"
            ]
          },
          "metadata": {},
          "execution_count": 25
        }
      ]
    },
    {
      "cell_type": "code",
      "source": [
        "13. Make a multilevel dictionary called life. Use these strings for the topmost keys: 'animals', 'plants', \n",
        "and 'other'. Make the 'animals' key refer to another dictionary with the keys 'cats', 'octopi', and 'emus'. \n",
        "Make the 'cats' key refer to a list of strings with the values 'Henri', 'Grumpy', and 'Lucy'. Make all the other keys refer to empty dictionaries."
      ],
      "metadata": {
        "id": "WMerV56feF7C"
      },
      "execution_count": null,
      "outputs": []
    },
    {
      "cell_type": "code",
      "source": [
        "life ={'animals':{'cat':['Henri', 'Grumpy', 'Lucy'], 'octopi':'', 'emus':''},\n",
        "       'plants' :'',\n",
        "       'other' :'' }\n",
        "life"
      ],
      "metadata": {
        "colab": {
          "base_uri": "https://localhost:8080/"
        },
        "id": "82jRg_L0eQxD",
        "outputId": "3e34f636-d922-455b-a958-bfd2dfd3361a"
      },
      "execution_count": 26,
      "outputs": [
        {
          "output_type": "execute_result",
          "data": {
            "text/plain": [
              "{'animals': {'cat': ['Henri', 'Grumpy', 'Lucy'], 'octopi': '', 'emus': ''},\n",
              " 'plants': '',\n",
              " 'other': ''}"
            ]
          },
          "metadata": {},
          "execution_count": 26
        }
      ]
    },
    {
      "cell_type": "code",
      "source": [
        "14. Print the top-level keys of life."
      ],
      "metadata": {
        "id": "bW07QpBKeTqq"
      },
      "execution_count": null,
      "outputs": []
    },
    {
      "cell_type": "code",
      "source": [
        "life.keys()"
      ],
      "metadata": {
        "colab": {
          "base_uri": "https://localhost:8080/"
        },
        "id": "6ITyPlYMeYRO",
        "outputId": "8b7570cf-7a62-4fcb-eab1-4386a2bf44f7"
      },
      "execution_count": 27,
      "outputs": [
        {
          "output_type": "execute_result",
          "data": {
            "text/plain": [
              "dict_keys(['animals', 'plants', 'other'])"
            ]
          },
          "metadata": {},
          "execution_count": 27
        }
      ]
    },
    {
      "cell_type": "code",
      "source": [
        "15. Print the keys for life['animals']."
      ],
      "metadata": {
        "id": "wxvIIZ9Meevx"
      },
      "execution_count": null,
      "outputs": []
    },
    {
      "cell_type": "code",
      "source": [
        "life['animals'].keys()"
      ],
      "metadata": {
        "colab": {
          "base_uri": "https://localhost:8080/"
        },
        "id": "B9tt1JboeloH",
        "outputId": "9e57d46c-a806-48f5-9ea9-54bae54c3b8a"
      },
      "execution_count": 28,
      "outputs": [
        {
          "output_type": "execute_result",
          "data": {
            "text/plain": [
              "dict_keys(['cat', 'octopi', 'emus'])"
            ]
          },
          "metadata": {},
          "execution_count": 28
        }
      ]
    },
    {
      "cell_type": "code",
      "source": [
        "16. Print the values for life['animals']['cats']"
      ],
      "metadata": {
        "id": "XS4gGlh3eqzp"
      },
      "execution_count": null,
      "outputs": []
    },
    {
      "cell_type": "code",
      "source": [
        "life['animals']['cat']"
      ],
      "metadata": {
        "colab": {
          "base_uri": "https://localhost:8080/"
        },
        "id": "PdSbCtvceul-",
        "outputId": "b6acb73d-a462-450f-fd76-11832c97f83c"
      },
      "execution_count": 29,
      "outputs": [
        {
          "output_type": "execute_result",
          "data": {
            "text/plain": [
              "['Henri', 'Grumpy', 'Lucy']"
            ]
          },
          "metadata": {},
          "execution_count": 29
        }
      ]
    },
    {
      "cell_type": "code",
      "source": [],
      "metadata": {
        "id": "l-vnqjpRex0g"
      },
      "execution_count": null,
      "outputs": []
    }
  ]
}