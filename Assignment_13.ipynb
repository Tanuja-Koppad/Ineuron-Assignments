{
  "nbformat": 4,
  "nbformat_minor": 0,
  "metadata": {
    "colab": {
      "provenance": []
    },
    "kernelspec": {
      "name": "python3",
      "display_name": "Python 3"
    },
    "language_info": {
      "name": "python"
    }
  },
  "cells": [
    {
      "cell_type": "code",
      "execution_count": null,
      "metadata": {
        "id": "3pWXaoP9PWR_"
      },
      "outputs": [],
      "source": [
        "1. What advantages do Excel spreadsheets have over CSV spreadsheets?"
      ]
    },
    {
      "cell_type": "code",
      "source": [
        "Ans.\n",
        "\n",
        "It is a binary file that holds information about all the worksheets in a workbook\n",
        "An Excel not only stores data but can also do operations on the data\n",
        "Files saved in excel cannot be opened or edited by text editors\n",
        "large files user is much easier in Excel for the end user. Also, you can have additional functions like selecting individual cells for import, convert dates and time automatically, reading formulas and their results, filters, sorting, etc\n",
        "Apart from text, data can also be stored in form of charts and graphs\n",
        "Excel can connect to external data sources to fetch data. You can use custom add-in in Excel to increase its functionality.\n",
        "Excel allows for Review of Data with detailed tracking and commenting feature\n",
        "In Excel, spreadsheets can have values of data types other than strings; cells can have different fonts, sizes, or color settings; cells can have varying widths and heights; adjacent cells can be merged"
      ],
      "metadata": {
        "id": "5aRD3o8E6Se1"
      },
      "execution_count": null,
      "outputs": []
    },
    {
      "cell_type": "code",
      "source": [
        "2.What do you pass to csv.reader() and csv.writer() to create reader and writer objects?"
      ],
      "metadata": {
        "id": "twApHS9m6mK3"
      },
      "execution_count": null,
      "outputs": []
    },
    {
      "cell_type": "code",
      "source": [
        "#we pass a File object, obtained from a call to open().\n",
        "import csv\n",
        "file_csv = open('abc.csv')\n",
        "filereader = csv.reader(file_csv)\n",
        "fileData = list(filereader)\n",
        "fileData"
      ],
      "metadata": {
        "id": "Z0kQLIGD66NQ"
      },
      "execution_count": null,
      "outputs": []
    },
    {
      "cell_type": "code",
      "source": [
        "3. What modes do File objects for reader and writer objects need to be opened in?"
      ],
      "metadata": {
        "id": "XVnIKFceAHwf"
      },
      "execution_count": null,
      "outputs": []
    },
    {
      "cell_type": "code",
      "source": [
        "Ans. File objects need to be opened in read-binary ('rb') for Reader objects and write-binary ('wb') for Writer objects"
      ],
      "metadata": {
        "id": "cm_e9HE9An7p"
      },
      "execution_count": null,
      "outputs": []
    },
    {
      "cell_type": "code",
      "source": [
        "4. What method takes a list argument and writes it to a CSV file?"
      ],
      "metadata": {
        "id": "X3Pp05H8A3B7"
      },
      "execution_count": null,
      "outputs": []
    },
    {
      "cell_type": "code",
      "source": [
        " #The writerow() method\n",
        "File_abc = open('abc.csv','w')\n",
        "File_Writer = csv.writer(File_abc)\n",
        "csv.writer(File_abc).writerow(['cat','fish','dog'])"
      ],
      "metadata": {
        "id": "EMI3_uKeA_CM"
      },
      "execution_count": null,
      "outputs": []
    },
    {
      "cell_type": "code",
      "source": [
        "5. What do the keyword arguments delimiter and line terminator do?"
      ],
      "metadata": {
        "id": "A1nDcQ3sBnLe"
      },
      "execution_count": null,
      "outputs": []
    },
    {
      "cell_type": "code",
      "source": [
        "Ans.\n",
        "\n",
        "The delimiter argument changes the string used to separate cells in a row.\n",
        "The line terminator argument changes the string used to separate rows"
      ],
      "metadata": {
        "id": "EG_yU_asD8mT"
      },
      "execution_count": null,
      "outputs": []
    },
    {
      "cell_type": "code",
      "source": [
        "6. What function takes a string of JSON data and returns a Python data structure?"
      ],
      "metadata": {
        "id": "886e54iDFMTN"
      },
      "execution_count": null,
      "outputs": []
    },
    {
      "cell_type": "code",
      "source": [
        "Ans. json.loads()"
      ],
      "metadata": {
        "id": "YEH5J6lpFdmJ"
      },
      "execution_count": null,
      "outputs": []
    },
    {
      "cell_type": "code",
      "source": [
        "7. What function takes a Python data structure and returns a string of JSON data?"
      ],
      "metadata": {
        "id": "qC3o62ZsQafm"
      },
      "execution_count": null,
      "outputs": []
    },
    {
      "cell_type": "code",
      "source": [
        "Ans. json.dumps()"
      ],
      "metadata": {
        "id": "8U3ERdOUQlK3"
      },
      "execution_count": null,
      "outputs": []
    },
    {
      "cell_type": "code",
      "source": [],
      "metadata": {
        "id": "KVVdNoAWUCne"
      },
      "execution_count": null,
      "outputs": []
    }
  ]
}