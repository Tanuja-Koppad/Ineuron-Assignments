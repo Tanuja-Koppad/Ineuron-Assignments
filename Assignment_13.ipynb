{
  "nbformat": 4,
  "nbformat_minor": 0,
  "metadata": {
    "colab": {
      "provenance": []
    },
    "kernelspec": {
      "name": "python3",
      "display_name": "Python 3"
    },
    "language_info": {
      "name": "python"
    }
  },
  "cells": [
    {
      "cell_type": "code",
      "execution_count": null,
      "metadata": {
        "id": "3pWXaoP9PWR_"
      },
      "outputs": [],
      "source": [
        "1. What advantages do Excel spreadsheets have over CSV spreadsheets?"
      ]
    },
    {
      "cell_type": "code",
      "source": [
        "Ans-The advantage of using the CSV files ultimately boils down to the specific use case. \n",
        "You would get thousands of different opinions and answers from all over the internet. \n",
        "It depends on the intended domain of your usage. The following are the most general advantages of the CSV format.\n",
        "\n",
        "1.CSV is easy to create. As CSV format is human-readable, it is easy to create. In fact, it can be done using any text editor (unlike XLS or XLSX format).\n",
        "2.CSV is human readable i.e. the data is not encoded or converted to binary before storing. This increases the readability as well as the ease of manipulation. Moreover, it is easy to edit.\n",
        "3.CSV files can be read using almost any text editor.\n",
        "4.It is easy to parse. The parser is much simpler compared to an XML or JSON parser due to the inherent simplicity of this format.\n",
        "5.CSV format is dictated by a straightforward schema. The advantage of having a simple schema makes it a popular choice for number crunching works.\n",
        "6.Manipulating the CSV file is fast. Due to the simple nature of this format, it is less taxing for the parser to parse the data. Hence, it results in swift data read and write.\n",
        "7.While the CSV format is usually not known for its memory efficiency, it, in general, results in small files. That being said, many other formats available out there provide more memory savings than CSV.\n",
        "8.CSV format is compact. Compared to other formats like XML or JSON, you do not need to care about tags. You need to start and end tags separately for each row and column which can be unwieldy."
      ],
      "metadata": {
        "id": "5aRD3o8E6Se1"
      },
      "execution_count": null,
      "outputs": []
    },
    {
      "cell_type": "code",
      "source": [
        "2.What do you pass to csv.reader() and csv.writer() to create reader and writer objects?"
      ],
      "metadata": {
        "id": "twApHS9m6mK3"
      },
      "execution_count": null,
      "outputs": []
    },
    {
      "cell_type": "code",
      "source": [
        "Ans- 1.Using the CSV Library. import csv with open(\"./bwq.csv\", 'r') as file: csvreader = csv.reader(file) for row in csvreader: print(row) \n",
        "     2.Using the Pandas Library. import pandas as pd data = pd.read_csv(\"bwq.csv\") data"
      ],
      "metadata": {
        "id": "Z0kQLIGD66NQ"
      },
      "execution_count": null,
      "outputs": []
    },
    {
      "cell_type": "code",
      "source": [
        "3. What modes do File objects for reader and writer objects need to be opened in?"
      ],
      "metadata": {
        "id": "XVnIKFceAHwf"
      },
      "execution_count": null,
      "outputs": []
    },
    {
      "cell_type": "code",
      "source": [
        "Ans-There are many modes for opening a file: r - open a file in read mode. w - opens or create a text file in write mode. a - opens a file in append mode"
      ],
      "metadata": {
        "id": "cm_e9HE9An7p"
      },
      "execution_count": null,
      "outputs": []
    },
    {
      "cell_type": "code",
      "source": [
        "4. What method takes a list argument and writes it to a CSV file?"
      ],
      "metadata": {
        "id": "X3Pp05H8A3B7"
      },
      "execution_count": null,
      "outputs": []
    },
    {
      "cell_type": "code",
      "source": [
        "Ans-writer() function is used to create a writer object. The writer. writerow() function is then used to write single rows to the CSV file."
      ],
      "metadata": {
        "id": "EMI3_uKeA_CM"
      },
      "execution_count": null,
      "outputs": []
    },
    {
      "cell_type": "code",
      "source": [
        "5. What do the keyword arguments delimiter and line terminator do?"
      ],
      "metadata": {
        "id": "A1nDcQ3sBnLe"
      },
      "execution_count": null,
      "outputs": []
    },
    {
      "cell_type": "code",
      "source": [
        "Ans-The delimiter is the character that appears between cells on a row. By default, the delimiter for a CSV file is a comma. The line terminator is the character that comes at the end of a row. \n",
        "By default, the line terminator is a newline.\n",
        "\n",
        "delimiter-\n",
        "A one-character string used to separate fields. It defaults to ','\n",
        "\n",
        "lineterminator-\n",
        "The string used to terminate lines produced by the writer. It defaults to '\\r\\n'"
      ],
      "metadata": {
        "id": "EG_yU_asD8mT"
      },
      "execution_count": null,
      "outputs": []
    },
    {
      "cell_type": "code",
      "source": [
        "6. What function takes a string of JSON data and returns a Python data structure?"
      ],
      "metadata": {
        "id": "886e54iDFMTN"
      },
      "execution_count": null,
      "outputs": []
    },
    {
      "cell_type": "code",
      "source": [
        "Ans-loads() method return Python data structure of JSON string or data."
      ],
      "metadata": {
        "id": "YEH5J6lpFdmJ"
      },
      "execution_count": null,
      "outputs": []
    },
    {
      "cell_type": "code",
      "source": [
        "7. What function takes a Python data structure and returns a string of JSON data?"
      ],
      "metadata": {
        "id": "qC3o62ZsQafm"
      },
      "execution_count": null,
      "outputs": []
    },
    {
      "cell_type": "code",
      "source": [
        "Ans-json.dumps(client) creates and returns a string with all the key-value pairs of the dictionary in JSON format"
      ],
      "metadata": {
        "id": "8U3ERdOUQlK3"
      },
      "execution_count": null,
      "outputs": []
    }
  ]
}